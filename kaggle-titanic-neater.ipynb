{
 "cells": [
  {
   "cell_type": "code",
   "execution_count": 203,
   "metadata": {},
   "outputs": [],
   "source": [
    "%reload_ext autoreload\n",
    "%autoreload 2\n",
    "%matplotlib inline"
   ]
  },
  {
   "cell_type": "code",
   "execution_count": 204,
   "metadata": {},
   "outputs": [],
   "source": [
    "import sklearn\n",
    "from sklearn import *\n",
    "import sys, os\n",
    "import pandas as pd\n",
    "import numpy as np\n",
    "import matplotlib.pyplot as plt"
   ]
  },
  {
   "cell_type": "code",
   "execution_count": 205,
   "metadata": {},
   "outputs": [],
   "source": [
    "# get current user\n",
    "user = !id -un\n",
    "user = user[0]\n",
    "data_path = f'/Users/{user}/datasets/kaggle/titanic'"
   ]
  },
  {
   "cell_type": "code",
   "execution_count": 206,
   "metadata": {},
   "outputs": [],
   "source": [
    "train_data_path = f'{data_path}/train.csv'\n",
    "test_data_path = f'{data_path}/test.csv'\n",
    "test_submission_path = f'{data_path}/gender_submission.csv'\n",
    "sumission_path = f'{data_path}/submission.csv'"
   ]
  },
  {
   "cell_type": "code",
   "execution_count": 207,
   "metadata": {},
   "outputs": [],
   "source": [
    "train_data = pd.read_csv(train_data_path)\n",
    "test_data =  pd.read_csv(test_data_path)\n",
    "test_submission =  pd.read_csv(test_submission_path)"
   ]
  },
  {
   "cell_type": "code",
   "execution_count": 240,
   "metadata": {},
   "outputs": [],
   "source": [
    "from sklearn.pipeline import Pipeline, FeatureUnion\n",
    "from sklearn.base import BaseEstimator, TransformerMixin\n",
    "from sklearn.impute import SimpleImputer\n",
    "from sklearn.preprocessing import LabelBinarizer\n",
    "from sklearn.preprocessing import LabelEncoder\n",
    "\n",
    "class DataFrameSelector(BaseEstimator, TransformerMixin):\n",
    "    def __init__(self, attribute_names):\n",
    "        self.attribute_names = attribute_names\n",
    "    def fit(self, X, y=None):\n",
    "        return self\n",
    "    def transform(self, X):\n",
    "        return X[self.attribute_names].values\n",
    "\n",
    "class CategoricalEncoder(LabelEncoder):\n",
    "    def fit(self, X, y=None):\n",
    "        \"\"\"this would allow us to fit the model based on the X input.\"\"\"\n",
    "        super(CategoricalEncoder, self).fit(X)\n",
    "    def transform(self, X, y=None):\n",
    "        return super(CategoricalEncoder, self).transform(X)\n",
    "\n",
    "    def fit_transform(self, X, y=None):\n",
    "        return super(CategoricalEncoder, self).fit(X).transform(X)\n",
    "    \n",
    "class CategoricalBinarizer(LabelBinarizer):\n",
    "    def fit(self, X, y=None):\n",
    "        \"\"\"this would allow us to fit the model based on the X input.\"\"\"\n",
    "        super(CategoricalBinarizer, self).fit(X)\n",
    "    def transform(self, X, y=None):\n",
    "        return super(CategoricalBinarizer, self).transform(X)\n",
    "\n",
    "    def fit_transform(self, X, y=None):\n",
    "        return super(CategoricalBinarizer, self).fit(X).transform(X)\n",
    "    \n",
    "class FirstCharacterExtractor(BaseEstimator, TransformerMixin):\n",
    "    def __init__(self):\n",
    "        pass\n",
    "    \n",
    "    def fit(self, X, y=None):\n",
    "        return self\n",
    "    \n",
    "    def transform(self, X, y=None):\n",
    "        return [s[0] for s in list(X.flatten())]\n",
    "    \n",
    "class ThreeClassesExtractor(BaseEstimator, TransformerMixin):\n",
    "    def __init__(self):\n",
    "        pass\n",
    "    \n",
    "    def fit(self, X, y=None):\n",
    "        return self\n",
    "    \n",
    "    def transform(self, X, y=None):\n",
    "        class_mapping = []\n",
    "        for x in X:\n",
    "            if(x in ['A', 'B', 'C']):\n",
    "                class_mapping.append('A')\n",
    "            if(x in ['D', 'E', 'F']):\n",
    "                class_mapping.append('B')\n",
    "            if(x in ['G', 'T', 'Z']):\n",
    "                class_mapping.append('C')\n",
    "        return class_mapping"
   ]
  },
  {
   "cell_type": "code",
   "execution_count": 241,
   "metadata": {},
   "outputs": [],
   "source": [
    "def trainRandomForestModel(X_numeric, y):\n",
    "    from sklearn.ensemble import RandomForestClassifier\n",
    "    clf = RandomForestClassifier(n_estimators=100, max_depth=2, random_state=0)\n",
    "    clf = clf.fit(X_numeric, y)\n",
    "    return clf"
   ]
  },
  {
   "cell_type": "code",
   "execution_count": 242,
   "metadata": {},
   "outputs": [],
   "source": [
    "num_attributes = ['Pclass', 'Age', 'SibSp', 'Parch', 'Fare']\n",
    "binary_attribute = ['Sex']\n",
    "cat_attributes = ['Embarked']\n",
    "cabin_attribute = ['Cabin']"
   ]
  },
  {
   "cell_type": "code",
   "execution_count": 243,
   "metadata": {},
   "outputs": [],
   "source": [
    "num_pipeline = Pipeline([\n",
    "    ('selector', DataFrameSelector(num_attributes)),\n",
    "    ('imputer', SimpleImputer(strategy='median'))\n",
    "])"
   ]
  },
  {
   "cell_type": "code",
   "execution_count": 244,
   "metadata": {},
   "outputs": [],
   "source": [
    "binary_pipeline = Pipeline([\n",
    "    ('selector', DataFrameSelector(binary_attribute)),\n",
    "    ('categorical_binarizer', CategoricalBinarizer())\n",
    "])"
   ]
  },
  {
   "cell_type": "code",
   "execution_count": 245,
   "metadata": {},
   "outputs": [],
   "source": [
    "cat_pipeline = Pipeline([\n",
    "    ('selector', DataFrameSelector(cat_attributes)),\n",
    "    ('imputer', SimpleImputer(strategy='constant', fill_value='Z')),\n",
    "    ('categorical_binarizer', CategoricalBinarizer())\n",
    "])"
   ]
  },
  {
   "cell_type": "code",
   "execution_count": 246,
   "metadata": {},
   "outputs": [],
   "source": [
    "cabin_pipeline = Pipeline([\n",
    "        ('selector', DataFrameSelector(cabin_attribute)),\n",
    "        ('imputer', SimpleImputer(strategy='constant', fill_value='Z')),\n",
    "        ('first_char_selector', FirstCharacterExtractor()),\n",
    "        ('three_classes_extractor', ThreeClassesExtractor()),\n",
    "        ('categorical_encoder', CategoricalBinarizer())\n",
    "    ])"
   ]
  },
  {
   "cell_type": "code",
   "execution_count": 247,
   "metadata": {},
   "outputs": [],
   "source": [
    "full_pipeline = FeatureUnion(transformer_list = [\n",
    "    ('num_pipeline', num_pipeline),\n",
    "    ('cat_pipeline', cat_pipeline),\n",
    "    ('binary_pipeline', binary_pipeline),\n",
    "    ('cabin_pipeline', cabin_pipeline)\n",
    " ])\n",
    "\n",
    "x_train = full_pipeline.fit_transform(train_data)"
   ]
  },
  {
   "cell_type": "code",
   "execution_count": 248,
   "metadata": {},
   "outputs": [],
   "source": [
    "def createSimpleSubmission(clf, pipeline, test_data):\n",
    "    x_numeric = full_pipeline.transform(test_data)\n",
    "    \n",
    "    X_passengerIds = test_data['PassengerId']\n",
    "    y_pred = clf.predict(x_numeric)\n",
    "    data =list(zip(list(X_passengerIds),list(y_pred)))\n",
    "    \n",
    "    modelName = type(clf).__name__\n",
    "    import csv\n",
    "    file_name = f\"{modelName}.csv\"\n",
    "    with open(file_name, 'w') as f:\n",
    "        writer = csv.writer(f , lineterminator='\\n')\n",
    "        writer.writerow(['PassengerId','Survived'])\n",
    "        for tup in data:\n",
    "            writer.writerow(tup)"
   ]
  },
  {
   "cell_type": "code",
   "execution_count": 249,
   "metadata": {},
   "outputs": [],
   "source": [
    "y_train = train_data['Survived']\n",
    "\n",
    "clf = trainRandomForestModel(x_train, y_train)\n",
    "cabin_categorical_encoder = cabin_pipeline.fit(train_data).named_steps.categorical_encoder\n",
    "\n",
    "createSimpleSubmission(clf, full_pipeline, test_data)"
   ]
  },
  {
   "cell_type": "code",
   "execution_count": null,
   "metadata": {},
   "outputs": [],
   "source": []
  },
  {
   "cell_type": "code",
   "execution_count": null,
   "metadata": {},
   "outputs": [],
   "source": []
  }
 ],
 "metadata": {
  "kernelspec": {
   "display_name": "Python 3",
   "language": "python",
   "name": "python3"
  },
  "language_info": {
   "codemirror_mode": {
    "name": "ipython",
    "version": 3
   },
   "file_extension": ".py",
   "mimetype": "text/x-python",
   "name": "python",
   "nbconvert_exporter": "python",
   "pygments_lexer": "ipython3",
   "version": "3.6.5"
  }
 },
 "nbformat": 4,
 "nbformat_minor": 2
}
